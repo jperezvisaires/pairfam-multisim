{
 "cells": [
  {
   "cell_type": "code",
   "execution_count": 1,
   "metadata": {},
   "outputs": [],
   "source": [
    "# Import libraries.\n",
    "\n",
    "# Data preprocessing.\n",
    "import pandas as pd"
   ]
  },
  {
   "cell_type": "code",
   "execution_count": 2,
   "metadata": {},
   "outputs": [],
   "source": [
    "# Loading SPSS .SAV files into a Pandas dataframe.\n",
    "# https://pandas.pydata.org/docs/reference/api/pandas.read_spss.html\n",
    "pf_1 = pd.read_spss(\"../data/raw/anchor/anchor1.sav\")"
   ]
  },
  {
   "cell_type": "code",
   "execution_count": 3,
   "metadata": {},
   "outputs": [],
   "source": [
    "pf_2 = pd.read_spss(\"../data/raw/anchor/anchor2.sav\")"
   ]
  },
  {
   "cell_type": "code",
   "execution_count": 4,
   "metadata": {},
   "outputs": [],
   "source": [
    "pf_3 = pd.read_spss(\"../data/raw/anchor/anchor3.sav\")"
   ]
  },
  {
   "cell_type": "code",
   "execution_count": 5,
   "metadata": {},
   "outputs": [],
   "source": [
    "pf_4 = pd.read_spss(\"../data/raw/anchor/anchor4.sav\")"
   ]
  },
  {
   "cell_type": "code",
   "execution_count": 6,
   "metadata": {},
   "outputs": [
    {
     "name": "stdout",
     "output_type": "stream",
     "text": [
      "The history saving thread hit an unexpected error (OperationalError('database is locked')).History will not be written to the database.\n"
     ]
    }
   ],
   "source": [
    "pf_5 = pd.read_spss(\"../data/raw/anchor/anchor5.sav\")"
   ]
  },
  {
   "cell_type": "code",
   "execution_count": 7,
   "metadata": {},
   "outputs": [],
   "source": [
    "pf_6 = pd.read_spss(\"../data/raw/anchor/anchor6.sav\")"
   ]
  },
  {
   "cell_type": "code",
   "execution_count": 8,
   "metadata": {},
   "outputs": [],
   "source": [
    "pf_7 = pd.read_spss(\"../data/raw/anchor/anchor7.sav\")"
   ]
  },
  {
   "cell_type": "code",
   "execution_count": 9,
   "metadata": {},
   "outputs": [],
   "source": [
    "pf_8 = pd.read_spss(\"../data/raw/anchor/anchor8.sav\")"
   ]
  },
  {
   "cell_type": "code",
   "execution_count": 33,
   "metadata": {},
   "outputs": [],
   "source": [
    "# Lists of variables.\n",
    "\n",
    "# Generated varibles of the anchor.\n",
    "vars_gen = [    \n",
    "    \"id\", # Anchor identifier.\n",
    "    \"pid\", # Partner identifier (NaN if single).\n",
    "    \"wave\", # Number of wave.\n",
    "    \"cohort\", # Birth cohort (71-73 [3], 81-83 [2], 91-93 [1], 01-03 [4]).\n",
    "    \"sex_gen\", # Sex of anchor (synchronized across waves).\n",
    "    \"psex_gen\", # Sex of partner (synchronized across waves).\n",
    "    \"age\", # Age of anchor.\n",
    "    \"page\", # Age of partner.\n",
    "    \"infertile\", # Indicator at the couple level if the anchor has a partner.\n",
    "    \"homosex_new\", # Homosexual or heterosexual.\n",
    "]\n",
    "\n",
    " # Relationship status.\n",
    "vars_rel = [\n",
    "    \"relstat\", # Anchor's detailed relationship status.\n",
    "    \"marstat\", # Anchor's marital status.\n",
    "    \"pmarstat\", # Partner's marital status.\n",
    "    \"meetdur\", # Months since the couple met each other.\n",
    "    \"reldur\", # Monts since the start of the relationship.\n",
    "    \"cohabdur\", # Months since the cohabitation started.\n",
    "    \"mardur\", # Months since the couple got married.\n",
    "    \"pregnant\", # Whether the couple is pregnant or not.   \n",
    "]\n",
    "\n",
    "# Children.\n",
    "vars_children = [\n",
    "    \"nkidsbio\", # Number of all biological kids born.\n",
    "    \"ykage\", # Age of anchor's youngest child living with the anchor. \n",
    "    \"frt5\", # Ideal number of children.\n",
    "    \"frt7\", # Concrete intention to procreate.\n",
    "]\n",
    "\n",
    "# Value of Children.\n",
    "vars_voc = [\n",
    "    # Value of Children benefits.\n",
    "    \"bce2i1\", # \"With children you will stay young longer\".\n",
    "    \"bce2i5\", # \"You will get new ideas from adult children\".\n",
    "    \"bce2i2\", # \"Have and specially close emotional relationship with your children\".\n",
    "    \"bce2i3\", # \"Your standing in your social network will increase because of children\".\n",
    "    \"bce2i4\", # \"Adult children will be there for you when you are in need\".\n",
    "\n",
    "    # Value of Children costs.\n",
    "    \"bce2i6\", # \"You will be able to afford less with children\".\n",
    "    \"bce2i8\", # \"You will not accomplish your professional goals with children\".\n",
    "    \"bce2i7\", # \"Children will put you undre nervous strain\".\n",
    "    \"bce2i9\", # \"Children will stand out in a negative way in public\".\n",
    "    \"bce2i10\", # \"Children will limit your personal freedom\".\n",
    "]\n",
    "\n",
    "# Social pressure for children.\n",
    "vars_pressure = [\n",
    "    # Social pressure for children\n",
    "    \"frt10i1\", # \"Most of my friends think that I should have a child\".\n",
    "    \"frt10i2\", # \"My parents think that I should have a child\".\n",
    "\n",
    "    # Social pressure against children.\n",
    "    \"frt10i3\", # \"Most of my friends think that I should pursue my career goals\".  \n",
    "    \"frt10i4\", # \"My parents think that i should pursue my career goals\".\n",
    "]\n",
    "\n",
    "# Social support.\n",
    "vars_support = [\n",
    "    \"frt20i1\", # \"Financial support\".\n",
    "    \"frt20i2\", # \"Chores and babysitting\".\n",
    "    \"frt20i3\", # \"Emotional needs\".        \n",
    "]\n",
    "        \n",
    "# Emotional autonomy.\n",
    "vars_ea = [\n",
    "    \"per1i1\", # \"I often agree with others, even if I'm not sure\".\n",
    "    \"per1i5\", # \"I often change my mind after hearing what others think\".\n",
    "    \"per1i10\", # \"I strongly tend to follow the wishes of others\".\n",
    "]"
   ]
  },
  {
   "cell_type": "code",
   "execution_count": 34,
   "metadata": {},
   "outputs": [],
   "source": [
    "# Standard information about anchor.\n",
    "anchor_1 = pf_1[\n",
    "    vars_gen +\n",
    "    vars_rel +\n",
    "    vars_children +\n",
    "    vars_voc +\n",
    "    vars_ea\n",
    "]\n",
    "\n",
    "anchor_2 = pf_2[\n",
    "    vars_gen +\n",
    "    vars_rel +\n",
    "    vars_children +\n",
    "    vars_voc +\n",
    "    vars_pressure +\n",
    "    vars_support\n",
    "]\n",
    "\n",
    "anchor_3 = pf_3[\n",
    "    vars_gen +\n",
    "    vars_rel +\n",
    "    vars_children \n",
    "]\n",
    "\n",
    "anchor_4 = pf_4[\n",
    "    vars_gen +\n",
    "    vars_rel +\n",
    "    vars_children +\n",
    "    vars_voc +\n",
    "    vars_pressure +\n",
    "    vars_support \n",
    "]\n",
    "\n",
    "anchor_5 = pf_5[\n",
    "    vars_gen +\n",
    "    vars_rel +\n",
    "    vars_children +\n",
    "    vars_ea\n",
    "]\n",
    "\n",
    "anchor_6 = pf_6[\n",
    "    vars_gen +\n",
    "    vars_rel +\n",
    "    vars_children +\n",
    "    vars_voc +\n",
    "    vars_pressure +\n",
    "    vars_support \n",
    "]\n",
    "\n",
    "anchor_7 = pf_7[\n",
    "    vars_gen +\n",
    "    vars_rel +\n",
    "    vars_children \n",
    "]\n",
    "\n",
    "anchor_8 = pf_8[\n",
    "    vars_gen +\n",
    "    vars_rel +\n",
    "    vars_children +\n",
    "    vars_voc +\n",
    "    vars_pressure +\n",
    "    vars_support \n",
    "]"
   ]
  },
  {
   "cell_type": "code",
   "execution_count": 35,
   "metadata": {},
   "outputs": [],
   "source": [
    "# Save to CSV\n",
    "anchor_1.to_csv(\"../data/processed/fert_anchor_1.csv\", index = False)\n",
    "anchor_2.to_csv(\"../data/processed/fert_anchor_2.csv\", index = False)\n",
    "anchor_3.to_csv(\"../data/processed/fert_anchor_3.csv\", index = False)\n",
    "anchor_4.to_csv(\"../data/processed/fert_anchor_4.csv\", index = False)\n",
    "anchor_5.to_csv(\"../data/processed/fert_anchor_5.csv\", index = False)\n",
    "anchor_6.to_csv(\"../data/processed/fert_anchor_6.csv\", index = False)\n",
    "anchor_7.to_csv(\"../data/processed/fert_anchor_7.csv\", index = False)\n",
    "anchor_8.to_csv(\"../data/processed/fert_anchor_8.csv\", index = False)"
   ]
  },
  {
   "cell_type": "code",
   "execution_count": null,
   "metadata": {},
   "outputs": [],
   "source": []
  }
 ],
 "metadata": {
  "kernelspec": {
   "display_name": "multisim",
   "language": "python",
   "name": "python3"
  },
  "language_info": {
   "codemirror_mode": {
    "name": "ipython",
    "version": 3
   },
   "file_extension": ".py",
   "mimetype": "text/x-python",
   "name": "python",
   "nbconvert_exporter": "python",
   "pygments_lexer": "ipython3",
   "version": "3.11.3"
  },
  "orig_nbformat": 4
 },
 "nbformat": 4,
 "nbformat_minor": 2
}
